{
 "cells": [
  {
   "cell_type": "markdown",
   "metadata": {},
   "source": [
    "# Dunham's Data"
   ]
  },
  {
   "cell_type": "markdown",
   "metadata": {},
   "source": [
    "## Setting up"
   ]
  },
  {
   "cell_type": "code",
   "execution_count": 1,
   "metadata": {},
   "outputs": [],
   "source": [
    "import math\n",
    "\n",
    "import pandas as pd\n",
    "import seaborn as sns"
   ]
  },
  {
   "cell_type": "code",
   "execution_count": 2,
   "metadata": {},
   "outputs": [],
   "source": [
    "# pd.set_option('display.max_rows', 999)"
   ]
  },
  {
   "cell_type": "code",
   "execution_count": 3,
   "metadata": {},
   "outputs": [],
   "source": [
    "# sns.set()"
   ]
  },
  {
   "cell_type": "code",
   "execution_count": 4,
   "metadata": {},
   "outputs": [],
   "source": [
    "# %matplotlib inline"
   ]
  },
  {
   "cell_type": "markdown",
   "metadata": {},
   "source": [
    "## Loading data"
   ]
  },
  {
   "cell_type": "code",
   "execution_count": 5,
   "metadata": {},
   "outputs": [],
   "source": [
    "itinerary_df = pd.read_csv('data/out/itinerary_1947-60.csv')\n",
    "itinerary_df.fillna('', inplace=True)"
   ]
  },
  {
   "cell_type": "code",
   "execution_count": 6,
   "metadata": {},
   "outputs": [
    {
     "data": {
      "text/plain": [
       "(5, 10)"
      ]
     },
     "execution_count": 6,
     "metadata": {},
     "output_type": "execute_result"
    }
   ],
   "source": [
    "itinerary_df.shape"
   ]
  },
  {
   "cell_type": "code",
   "execution_count": 7,
   "metadata": {
    "scrolled": false
   },
   "outputs": [
    {
     "data": {
      "text/html": [
       "<div>\n",
       "<style scoped>\n",
       "    .dataframe tbody tr th:only-of-type {\n",
       "        vertical-align: middle;\n",
       "    }\n",
       "\n",
       "    .dataframe tbody tr th {\n",
       "        vertical-align: top;\n",
       "    }\n",
       "\n",
       "    .dataframe thead th {\n",
       "        text-align: right;\n",
       "    }\n",
       "</style>\n",
       "<table border=\"1\" class=\"dataframe\">\n",
       "  <thead>\n",
       "    <tr style=\"text-align: right;\">\n",
       "      <th></th>\n",
       "      <th>START_DATE</th>\n",
       "      <th>END_DATE</th>\n",
       "      <th>CITY</th>\n",
       "      <th>COUNTRY</th>\n",
       "      <th>N_ROWS</th>\n",
       "      <th>LAST_MOMENT</th>\n",
       "      <th>MIN_NIGHTS</th>\n",
       "      <th>MAX_NIGHTS</th>\n",
       "      <th>LATITUDE</th>\n",
       "      <th>LONGITUDE</th>\n",
       "    </tr>\n",
       "  </thead>\n",
       "  <tbody>\n",
       "    <tr>\n",
       "      <th>0</th>\n",
       "      <td>1947-03-14</td>\n",
       "      <td>1947-04-07</td>\n",
       "      <td>New York City</td>\n",
       "      <td>USA</td>\n",
       "      <td>2</td>\n",
       "      <td>Probably that night</td>\n",
       "      <td>1</td>\n",
       "      <td>2</td>\n",
       "      <td>40.712700</td>\n",
       "      <td>-74.005900</td>\n",
       "    </tr>\n",
       "    <tr>\n",
       "      <th>1</th>\n",
       "      <td>1947-06-28</td>\n",
       "      <td>1947-09-01</td>\n",
       "      <td>Mexico City</td>\n",
       "      <td>Mexico</td>\n",
       "      <td>5</td>\n",
       "      <td>Probably that night</td>\n",
       "      <td>4</td>\n",
       "      <td>5</td>\n",
       "      <td>19.433333</td>\n",
       "      <td>-99.133333</td>\n",
       "    </tr>\n",
       "    <tr>\n",
       "      <th>2</th>\n",
       "      <td>1947-12-29</td>\n",
       "      <td>1947-12-29</td>\n",
       "      <td>San Diego</td>\n",
       "      <td>USA</td>\n",
       "      <td>1</td>\n",
       "      <td>Probably that night</td>\n",
       "      <td>0</td>\n",
       "      <td>1</td>\n",
       "      <td>32.715000</td>\n",
       "      <td>-117.162500</td>\n",
       "    </tr>\n",
       "    <tr>\n",
       "      <th>3</th>\n",
       "      <td>1948-01-02</td>\n",
       "      <td>1948-01-02</td>\n",
       "      <td>Stockton, CA</td>\n",
       "      <td>USA</td>\n",
       "      <td>1</td>\n",
       "      <td>Probably that night</td>\n",
       "      <td>0</td>\n",
       "      <td>1</td>\n",
       "      <td>37.975556</td>\n",
       "      <td>-121.300833</td>\n",
       "    </tr>\n",
       "    <tr>\n",
       "      <th>4</th>\n",
       "      <td>1948-01-04</td>\n",
       "      <td>1948-01-04</td>\n",
       "      <td>San Francisco</td>\n",
       "      <td>USA</td>\n",
       "      <td>1</td>\n",
       "      <td>Probably that night</td>\n",
       "      <td>0</td>\n",
       "      <td>1</td>\n",
       "      <td>37.783333</td>\n",
       "      <td>-122.416667</td>\n",
       "    </tr>\n",
       "  </tbody>\n",
       "</table>\n",
       "</div>"
      ],
      "text/plain": [
       "   START_DATE    END_DATE           CITY COUNTRY  N_ROWS          LAST_MOMENT  \\\n",
       "0  1947-03-14  1947-04-07  New York City     USA       2  Probably that night   \n",
       "1  1947-06-28  1947-09-01    Mexico City  Mexico       5  Probably that night   \n",
       "2  1947-12-29  1947-12-29      San Diego     USA       1  Probably that night   \n",
       "3  1948-01-02  1948-01-02   Stockton, CA     USA       1  Probably that night   \n",
       "4  1948-01-04  1948-01-04  San Francisco     USA       1  Probably that night   \n",
       "\n",
       "   MIN_NIGHTS  MAX_NIGHTS   LATITUDE   LONGITUDE  \n",
       "0           1           2  40.712700  -74.005900  \n",
       "1           4           5  19.433333  -99.133333  \n",
       "2           0           1  32.715000 -117.162500  \n",
       "3           0           1  37.975556 -121.300833  \n",
       "4           0           1  37.783333 -122.416667  "
      ]
     },
     "execution_count": 7,
     "metadata": {},
     "output_type": "execute_result"
    }
   ],
   "source": [
    "itinerary_df"
   ]
  },
  {
   "cell_type": "markdown",
   "metadata": {},
   "source": [
    "## Pre-processing data"
   ]
  },
  {
   "cell_type": "code",
   "execution_count": 8,
   "metadata": {},
   "outputs": [
    {
     "data": {
      "text/html": [
       "<div>\n",
       "<style scoped>\n",
       "    .dataframe tbody tr th:only-of-type {\n",
       "        vertical-align: middle;\n",
       "    }\n",
       "\n",
       "    .dataframe tbody tr th {\n",
       "        vertical-align: top;\n",
       "    }\n",
       "\n",
       "    .dataframe thead th {\n",
       "        text-align: right;\n",
       "    }\n",
       "</style>\n",
       "<table border=\"1\" class=\"dataframe\">\n",
       "  <thead>\n",
       "    <tr style=\"text-align: right;\">\n",
       "      <th></th>\n",
       "      <th>START_DATE</th>\n",
       "      <th>END_DATE</th>\n",
       "      <th>CITY</th>\n",
       "      <th>COUNTRY</th>\n",
       "      <th>N_ROWS</th>\n",
       "      <th>LAST_MOMENT</th>\n",
       "      <th>MIN_NIGHTS</th>\n",
       "      <th>MAX_NIGHTS</th>\n",
       "      <th>LATITUDE</th>\n",
       "      <th>LONGITUDE</th>\n",
       "    </tr>\n",
       "  </thead>\n",
       "  <tbody>\n",
       "    <tr>\n",
       "      <th>0</th>\n",
       "      <td>1947-03-14</td>\n",
       "      <td>1947-04-07</td>\n",
       "      <td>New York City</td>\n",
       "      <td>USA</td>\n",
       "      <td>2</td>\n",
       "      <td>Probably that night</td>\n",
       "      <td>1</td>\n",
       "      <td>2</td>\n",
       "      <td>40.712700</td>\n",
       "      <td>-74.005900</td>\n",
       "    </tr>\n",
       "    <tr>\n",
       "      <th>1</th>\n",
       "      <td>1947-06-28</td>\n",
       "      <td>1947-09-01</td>\n",
       "      <td>Mexico City</td>\n",
       "      <td>Mexico</td>\n",
       "      <td>5</td>\n",
       "      <td>Probably that night</td>\n",
       "      <td>4</td>\n",
       "      <td>5</td>\n",
       "      <td>19.433333</td>\n",
       "      <td>-99.133333</td>\n",
       "    </tr>\n",
       "    <tr>\n",
       "      <th>2</th>\n",
       "      <td>1947-12-29</td>\n",
       "      <td>1947-12-29</td>\n",
       "      <td>San Diego</td>\n",
       "      <td>USA</td>\n",
       "      <td>1</td>\n",
       "      <td>Probably that night</td>\n",
       "      <td>0</td>\n",
       "      <td>1</td>\n",
       "      <td>32.715000</td>\n",
       "      <td>-117.162500</td>\n",
       "    </tr>\n",
       "    <tr>\n",
       "      <th>3</th>\n",
       "      <td>1948-01-02</td>\n",
       "      <td>1948-01-02</td>\n",
       "      <td>Stockton, CA</td>\n",
       "      <td>USA</td>\n",
       "      <td>1</td>\n",
       "      <td>Probably that night</td>\n",
       "      <td>0</td>\n",
       "      <td>1</td>\n",
       "      <td>37.975556</td>\n",
       "      <td>-121.300833</td>\n",
       "    </tr>\n",
       "    <tr>\n",
       "      <th>4</th>\n",
       "      <td>1948-01-04</td>\n",
       "      <td>1948-01-04</td>\n",
       "      <td>San Francisco</td>\n",
       "      <td>USA</td>\n",
       "      <td>1</td>\n",
       "      <td>Probably that night</td>\n",
       "      <td>0</td>\n",
       "      <td>1</td>\n",
       "      <td>37.783333</td>\n",
       "      <td>-122.416667</td>\n",
       "    </tr>\n",
       "  </tbody>\n",
       "</table>\n",
       "</div>"
      ],
      "text/plain": [
       "   START_DATE    END_DATE           CITY COUNTRY  N_ROWS          LAST_MOMENT  \\\n",
       "0  1947-03-14  1947-04-07  New York City     USA       2  Probably that night   \n",
       "1  1947-06-28  1947-09-01    Mexico City  Mexico       5  Probably that night   \n",
       "2  1947-12-29  1947-12-29      San Diego     USA       1  Probably that night   \n",
       "3  1948-01-02  1948-01-02   Stockton, CA     USA       1  Probably that night   \n",
       "4  1948-01-04  1948-01-04  San Francisco     USA       1  Probably that night   \n",
       "\n",
       "   MIN_NIGHTS  MAX_NIGHTS   LATITUDE   LONGITUDE  \n",
       "0           1           2  40.712700  -74.005900  \n",
       "1           4           5  19.433333  -99.133333  \n",
       "2           0           1  32.715000 -117.162500  \n",
       "3           0           1  37.975556 -121.300833  \n",
       "4           0           1  37.783333 -122.416667  "
      ]
     },
     "execution_count": 8,
     "metadata": {},
     "output_type": "execute_result"
    }
   ],
   "source": [
    "itinerary_df = itinerary_df[pd.to_datetime(itinerary_df.START_DATE) < '1961'].copy()\n",
    "itinerary_df.tail()"
   ]
  },
  {
   "cell_type": "code",
   "execution_count": 9,
   "metadata": {},
   "outputs": [],
   "source": [
    "first_date = pd.to_datetime(itinerary_df.START_DATE.iloc[0].split('-')[0])\n",
    "last_date = pd.to_datetime(itinerary_df.END_DATE.iloc[-1])\n",
    "total_days = (last_date - first_date).days + 1"
   ]
  },
  {
   "cell_type": "code",
   "execution_count": 10,
   "metadata": {},
   "outputs": [
    {
     "data": {
      "text/plain": [
       "369"
      ]
     },
     "execution_count": 10,
     "metadata": {},
     "output_type": "execute_result"
    }
   ],
   "source": [
    "total_days"
   ]
  },
  {
   "cell_type": "code",
   "execution_count": 11,
   "metadata": {},
   "outputs": [],
   "source": [
    "itinerary_df['GROUP'] = 0\n",
    "group = 1\n",
    "itinerary_df.loc[0, 'GROUP'] = group\n",
    "for i, row in itinerary_df[1:].iterrows():\n",
    "    prev_row = itinerary_df.loc[i-1]\n",
    "    prev_row_end_date = pd.to_datetime(prev_row['END_DATE'])\n",
    "    curr_row_start_date = pd.to_datetime(row['START_DATE'])\n",
    "    n_days = (curr_row_start_date - prev_row_end_date).days\n",
    "    if n_days == 0:\n",
    "        print('ERROR')\n",
    "    elif n_days <= 7:\n",
    "        pass\n",
    "    else: # n_days > 7\n",
    "        group += 1\n",
    "    itinerary_df.loc[i, 'GROUP'] = group"
   ]
  },
  {
   "cell_type": "code",
   "execution_count": 12,
   "metadata": {},
   "outputs": [
    {
     "data": {
      "text/html": [
       "<div>\n",
       "<style scoped>\n",
       "    .dataframe tbody tr th:only-of-type {\n",
       "        vertical-align: middle;\n",
       "    }\n",
       "\n",
       "    .dataframe tbody tr th {\n",
       "        vertical-align: top;\n",
       "    }\n",
       "\n",
       "    .dataframe thead th {\n",
       "        text-align: right;\n",
       "    }\n",
       "</style>\n",
       "<table border=\"1\" class=\"dataframe\">\n",
       "  <thead>\n",
       "    <tr style=\"text-align: right;\">\n",
       "      <th></th>\n",
       "      <th>START_DATE</th>\n",
       "      <th>END_DATE</th>\n",
       "      <th>CITY</th>\n",
       "      <th>COUNTRY</th>\n",
       "      <th>N_ROWS</th>\n",
       "      <th>LAST_MOMENT</th>\n",
       "      <th>MIN_NIGHTS</th>\n",
       "      <th>MAX_NIGHTS</th>\n",
       "      <th>LATITUDE</th>\n",
       "      <th>LONGITUDE</th>\n",
       "      <th>GROUP</th>\n",
       "    </tr>\n",
       "  </thead>\n",
       "  <tbody>\n",
       "    <tr>\n",
       "      <th>0</th>\n",
       "      <td>1947-03-14</td>\n",
       "      <td>1947-04-07</td>\n",
       "      <td>New York City</td>\n",
       "      <td>USA</td>\n",
       "      <td>2</td>\n",
       "      <td>Probably that night</td>\n",
       "      <td>1</td>\n",
       "      <td>2</td>\n",
       "      <td>40.712700</td>\n",
       "      <td>-74.005900</td>\n",
       "      <td>1</td>\n",
       "    </tr>\n",
       "    <tr>\n",
       "      <th>1</th>\n",
       "      <td>1947-06-28</td>\n",
       "      <td>1947-09-01</td>\n",
       "      <td>Mexico City</td>\n",
       "      <td>Mexico</td>\n",
       "      <td>5</td>\n",
       "      <td>Probably that night</td>\n",
       "      <td>4</td>\n",
       "      <td>5</td>\n",
       "      <td>19.433333</td>\n",
       "      <td>-99.133333</td>\n",
       "      <td>2</td>\n",
       "    </tr>\n",
       "    <tr>\n",
       "      <th>2</th>\n",
       "      <td>1947-12-29</td>\n",
       "      <td>1947-12-29</td>\n",
       "      <td>San Diego</td>\n",
       "      <td>USA</td>\n",
       "      <td>1</td>\n",
       "      <td>Probably that night</td>\n",
       "      <td>0</td>\n",
       "      <td>1</td>\n",
       "      <td>32.715000</td>\n",
       "      <td>-117.162500</td>\n",
       "      <td>3</td>\n",
       "    </tr>\n",
       "    <tr>\n",
       "      <th>3</th>\n",
       "      <td>1948-01-02</td>\n",
       "      <td>1948-01-02</td>\n",
       "      <td>Stockton, CA</td>\n",
       "      <td>USA</td>\n",
       "      <td>1</td>\n",
       "      <td>Probably that night</td>\n",
       "      <td>0</td>\n",
       "      <td>1</td>\n",
       "      <td>37.975556</td>\n",
       "      <td>-121.300833</td>\n",
       "      <td>3</td>\n",
       "    </tr>\n",
       "    <tr>\n",
       "      <th>4</th>\n",
       "      <td>1948-01-04</td>\n",
       "      <td>1948-01-04</td>\n",
       "      <td>San Francisco</td>\n",
       "      <td>USA</td>\n",
       "      <td>1</td>\n",
       "      <td>Probably that night</td>\n",
       "      <td>0</td>\n",
       "      <td>1</td>\n",
       "      <td>37.783333</td>\n",
       "      <td>-122.416667</td>\n",
       "      <td>3</td>\n",
       "    </tr>\n",
       "  </tbody>\n",
       "</table>\n",
       "</div>"
      ],
      "text/plain": [
       "   START_DATE    END_DATE           CITY COUNTRY  N_ROWS          LAST_MOMENT  \\\n",
       "0  1947-03-14  1947-04-07  New York City     USA       2  Probably that night   \n",
       "1  1947-06-28  1947-09-01    Mexico City  Mexico       5  Probably that night   \n",
       "2  1947-12-29  1947-12-29      San Diego     USA       1  Probably that night   \n",
       "3  1948-01-02  1948-01-02   Stockton, CA     USA       1  Probably that night   \n",
       "4  1948-01-04  1948-01-04  San Francisco     USA       1  Probably that night   \n",
       "\n",
       "   MIN_NIGHTS  MAX_NIGHTS   LATITUDE   LONGITUDE  GROUP  \n",
       "0           1           2  40.712700  -74.005900      1  \n",
       "1           4           5  19.433333  -99.133333      2  \n",
       "2           0           1  32.715000 -117.162500      3  \n",
       "3           0           1  37.975556 -121.300833      3  \n",
       "4           0           1  37.783333 -122.416667      3  "
      ]
     },
     "execution_count": 12,
     "metadata": {},
     "output_type": "execute_result"
    }
   ],
   "source": [
    "itinerary_df.head()"
   ]
  },
  {
   "cell_type": "code",
   "execution_count": 13,
   "metadata": {},
   "outputs": [
    {
     "data": {
      "text/html": [
       "<div>\n",
       "<style scoped>\n",
       "    .dataframe tbody tr th:only-of-type {\n",
       "        vertical-align: middle;\n",
       "    }\n",
       "\n",
       "    .dataframe tbody tr th {\n",
       "        vertical-align: top;\n",
       "    }\n",
       "\n",
       "    .dataframe thead th {\n",
       "        text-align: right;\n",
       "    }\n",
       "</style>\n",
       "<table border=\"1\" class=\"dataframe\">\n",
       "  <thead>\n",
       "    <tr style=\"text-align: right;\">\n",
       "      <th></th>\n",
       "      <th>START_DATE</th>\n",
       "      <th>END_DATE</th>\n",
       "      <th>CITY</th>\n",
       "      <th>COUNTRY</th>\n",
       "      <th>N_ROWS</th>\n",
       "      <th>LAST_MOMENT</th>\n",
       "      <th>MIN_NIGHTS</th>\n",
       "      <th>MAX_NIGHTS</th>\n",
       "      <th>LATITUDE</th>\n",
       "      <th>LONGITUDE</th>\n",
       "      <th>GROUP</th>\n",
       "    </tr>\n",
       "  </thead>\n",
       "  <tbody>\n",
       "    <tr>\n",
       "      <th>0</th>\n",
       "      <td>1947-03-14</td>\n",
       "      <td>1947-04-07</td>\n",
       "      <td>New York City</td>\n",
       "      <td>USA</td>\n",
       "      <td>2</td>\n",
       "      <td>Probably that night</td>\n",
       "      <td>1</td>\n",
       "      <td>2</td>\n",
       "      <td>40.712700</td>\n",
       "      <td>-74.005900</td>\n",
       "      <td>1</td>\n",
       "    </tr>\n",
       "    <tr>\n",
       "      <th>1</th>\n",
       "      <td>1947-06-28</td>\n",
       "      <td>1947-09-01</td>\n",
       "      <td>Mexico City</td>\n",
       "      <td>Mexico</td>\n",
       "      <td>5</td>\n",
       "      <td>Probably that night</td>\n",
       "      <td>4</td>\n",
       "      <td>5</td>\n",
       "      <td>19.433333</td>\n",
       "      <td>-99.133333</td>\n",
       "      <td>2</td>\n",
       "    </tr>\n",
       "    <tr>\n",
       "      <th>2</th>\n",
       "      <td>1947-12-29</td>\n",
       "      <td>1947-12-29</td>\n",
       "      <td>San Diego</td>\n",
       "      <td>USA</td>\n",
       "      <td>1</td>\n",
       "      <td>Probably that night</td>\n",
       "      <td>0</td>\n",
       "      <td>1</td>\n",
       "      <td>32.715000</td>\n",
       "      <td>-117.162500</td>\n",
       "      <td>3</td>\n",
       "    </tr>\n",
       "    <tr>\n",
       "      <th>3</th>\n",
       "      <td>1948-01-02</td>\n",
       "      <td>1948-01-02</td>\n",
       "      <td>Stockton, CA</td>\n",
       "      <td>USA</td>\n",
       "      <td>1</td>\n",
       "      <td>Probably that night</td>\n",
       "      <td>0</td>\n",
       "      <td>1</td>\n",
       "      <td>37.975556</td>\n",
       "      <td>-121.300833</td>\n",
       "      <td>3</td>\n",
       "    </tr>\n",
       "    <tr>\n",
       "      <th>4</th>\n",
       "      <td>1948-01-04</td>\n",
       "      <td>1948-01-04</td>\n",
       "      <td>San Francisco</td>\n",
       "      <td>USA</td>\n",
       "      <td>1</td>\n",
       "      <td>Probably that night</td>\n",
       "      <td>0</td>\n",
       "      <td>1</td>\n",
       "      <td>37.783333</td>\n",
       "      <td>-122.416667</td>\n",
       "      <td>3</td>\n",
       "    </tr>\n",
       "  </tbody>\n",
       "</table>\n",
       "</div>"
      ],
      "text/plain": [
       "   START_DATE    END_DATE           CITY COUNTRY  N_ROWS          LAST_MOMENT  \\\n",
       "0  1947-03-14  1947-04-07  New York City     USA       2  Probably that night   \n",
       "1  1947-06-28  1947-09-01    Mexico City  Mexico       5  Probably that night   \n",
       "2  1947-12-29  1947-12-29      San Diego     USA       1  Probably that night   \n",
       "3  1948-01-02  1948-01-02   Stockton, CA     USA       1  Probably that night   \n",
       "4  1948-01-04  1948-01-04  San Francisco     USA       1  Probably that night   \n",
       "\n",
       "   MIN_NIGHTS  MAX_NIGHTS   LATITUDE   LONGITUDE  GROUP  \n",
       "0           1           2  40.712700  -74.005900      1  \n",
       "1           4           5  19.433333  -99.133333      2  \n",
       "2           0           1  32.715000 -117.162500      3  \n",
       "3           0           1  37.975556 -121.300833      3  \n",
       "4           0           1  37.783333 -122.416667      3  "
      ]
     },
     "execution_count": 13,
     "metadata": {},
     "output_type": "execute_result"
    }
   ],
   "source": [
    "itinerary_df.tail()"
   ]
  },
  {
   "cell_type": "code",
   "execution_count": 14,
   "metadata": {},
   "outputs": [],
   "source": [
    "aux_df = itinerary_df.drop_duplicates('CITY', keep='last') \\\n",
    "    [['CITY', 'LATITUDE', 'LONGITUDE', 'GROUP', 'END_DATE']]"
   ]
  },
  {
   "cell_type": "code",
   "execution_count": 15,
   "metadata": {},
   "outputs": [
    {
     "data": {
      "text/html": [
       "<div>\n",
       "<style scoped>\n",
       "    .dataframe tbody tr th:only-of-type {\n",
       "        vertical-align: middle;\n",
       "    }\n",
       "\n",
       "    .dataframe tbody tr th {\n",
       "        vertical-align: top;\n",
       "    }\n",
       "\n",
       "    .dataframe thead th {\n",
       "        text-align: right;\n",
       "    }\n",
       "</style>\n",
       "<table border=\"1\" class=\"dataframe\">\n",
       "  <thead>\n",
       "    <tr style=\"text-align: right;\">\n",
       "      <th></th>\n",
       "      <th>CITY</th>\n",
       "      <th>LATITUDE</th>\n",
       "      <th>LONGITUDE</th>\n",
       "      <th>GROUP</th>\n",
       "      <th>END_DATE</th>\n",
       "    </tr>\n",
       "  </thead>\n",
       "  <tbody>\n",
       "    <tr>\n",
       "      <th>0</th>\n",
       "      <td>New York City</td>\n",
       "      <td>40.712700</td>\n",
       "      <td>-74.005900</td>\n",
       "      <td>1</td>\n",
       "      <td>1947-04-07</td>\n",
       "    </tr>\n",
       "    <tr>\n",
       "      <th>1</th>\n",
       "      <td>Mexico City</td>\n",
       "      <td>19.433333</td>\n",
       "      <td>-99.133333</td>\n",
       "      <td>2</td>\n",
       "      <td>1947-09-01</td>\n",
       "    </tr>\n",
       "    <tr>\n",
       "      <th>2</th>\n",
       "      <td>San Diego</td>\n",
       "      <td>32.715000</td>\n",
       "      <td>-117.162500</td>\n",
       "      <td>3</td>\n",
       "      <td>1947-12-29</td>\n",
       "    </tr>\n",
       "    <tr>\n",
       "      <th>3</th>\n",
       "      <td>Stockton, CA</td>\n",
       "      <td>37.975556</td>\n",
       "      <td>-121.300833</td>\n",
       "      <td>3</td>\n",
       "      <td>1948-01-02</td>\n",
       "    </tr>\n",
       "    <tr>\n",
       "      <th>4</th>\n",
       "      <td>San Francisco</td>\n",
       "      <td>37.783333</td>\n",
       "      <td>-122.416667</td>\n",
       "      <td>3</td>\n",
       "      <td>1948-01-04</td>\n",
       "    </tr>\n",
       "  </tbody>\n",
       "</table>\n",
       "</div>"
      ],
      "text/plain": [
       "            CITY   LATITUDE   LONGITUDE  GROUP    END_DATE\n",
       "0  New York City  40.712700  -74.005900      1  1947-04-07\n",
       "1    Mexico City  19.433333  -99.133333      2  1947-09-01\n",
       "2      San Diego  32.715000 -117.162500      3  1947-12-29\n",
       "3   Stockton, CA  37.975556 -121.300833      3  1948-01-02\n",
       "4  San Francisco  37.783333 -122.416667      3  1948-01-04"
      ]
     },
     "execution_count": 15,
     "metadata": {},
     "output_type": "execute_result"
    }
   ],
   "source": [
    "aux_df.head()"
   ]
  },
  {
   "cell_type": "markdown",
   "metadata": {},
   "source": [
    "## Processing data"
   ]
  },
  {
   "cell_type": "code",
   "execution_count": 16,
   "metadata": {},
   "outputs": [],
   "source": [
    "def next_year(d_str):\n",
    "    return pd.to_datetime('{}-01-01'.format(int(d_str.split('-')[0]) + 1))\n",
    "\n",
    "def altitud_year(d):\n",
    "    return (d - first_date).days# + 1"
   ]
  },
  {
   "cell_type": "code",
   "execution_count": 17,
   "metadata": {},
   "outputs": [],
   "source": [
    "points_df = aux_df[['LATITUDE', 'LONGITUDE', 'CITY']].copy()\n",
    "# points_df['ALTITUDE'] = aux_df['END_DATE'].apply(lambda x: altitud_year(next_year(x)))\n",
    "points_df['ALTITUDE'] = aux_df['END_DATE'].apply(lambda x: altitud_year(pd.to_datetime(x)))"
   ]
  },
  {
   "cell_type": "code",
   "execution_count": 18,
   "metadata": {},
   "outputs": [
    {
     "data": {
      "text/plain": [
       "(5, 4)"
      ]
     },
     "execution_count": 18,
     "metadata": {},
     "output_type": "execute_result"
    }
   ],
   "source": [
    "points_df.shape"
   ]
  },
  {
   "cell_type": "code",
   "execution_count": 19,
   "metadata": {},
   "outputs": [
    {
     "data": {
      "text/html": [
       "<div>\n",
       "<style scoped>\n",
       "    .dataframe tbody tr th:only-of-type {\n",
       "        vertical-align: middle;\n",
       "    }\n",
       "\n",
       "    .dataframe tbody tr th {\n",
       "        vertical-align: top;\n",
       "    }\n",
       "\n",
       "    .dataframe thead th {\n",
       "        text-align: right;\n",
       "    }\n",
       "</style>\n",
       "<table border=\"1\" class=\"dataframe\">\n",
       "  <thead>\n",
       "    <tr style=\"text-align: right;\">\n",
       "      <th></th>\n",
       "      <th>LATITUDE</th>\n",
       "      <th>LONGITUDE</th>\n",
       "      <th>CITY</th>\n",
       "      <th>ALTITUDE</th>\n",
       "    </tr>\n",
       "  </thead>\n",
       "  <tbody>\n",
       "    <tr>\n",
       "      <th>0</th>\n",
       "      <td>40.712700</td>\n",
       "      <td>-74.005900</td>\n",
       "      <td>New York City</td>\n",
       "      <td>96</td>\n",
       "    </tr>\n",
       "    <tr>\n",
       "      <th>1</th>\n",
       "      <td>19.433333</td>\n",
       "      <td>-99.133333</td>\n",
       "      <td>Mexico City</td>\n",
       "      <td>243</td>\n",
       "    </tr>\n",
       "    <tr>\n",
       "      <th>2</th>\n",
       "      <td>32.715000</td>\n",
       "      <td>-117.162500</td>\n",
       "      <td>San Diego</td>\n",
       "      <td>362</td>\n",
       "    </tr>\n",
       "    <tr>\n",
       "      <th>3</th>\n",
       "      <td>37.975556</td>\n",
       "      <td>-121.300833</td>\n",
       "      <td>Stockton, CA</td>\n",
       "      <td>366</td>\n",
       "    </tr>\n",
       "    <tr>\n",
       "      <th>4</th>\n",
       "      <td>37.783333</td>\n",
       "      <td>-122.416667</td>\n",
       "      <td>San Francisco</td>\n",
       "      <td>368</td>\n",
       "    </tr>\n",
       "  </tbody>\n",
       "</table>\n",
       "</div>"
      ],
      "text/plain": [
       "    LATITUDE   LONGITUDE           CITY  ALTITUDE\n",
       "0  40.712700  -74.005900  New York City        96\n",
       "1  19.433333  -99.133333    Mexico City       243\n",
       "2  32.715000 -117.162500      San Diego       362\n",
       "3  37.975556 -121.300833   Stockton, CA       366\n",
       "4  37.783333 -122.416667  San Francisco       368"
      ]
     },
     "execution_count": 19,
     "metadata": {},
     "output_type": "execute_result"
    }
   ],
   "source": [
    "points_df.head()"
   ]
  },
  {
   "cell_type": "code",
   "execution_count": 20,
   "metadata": {},
   "outputs": [],
   "source": [
    "cities_df = aux_df[['CITY', 'LATITUDE', 'LONGITUDE']].copy()\n",
    "cities_df.columns = ['TEXT', 'LATITUDE', 'LONGITUDE']\n",
    "cities_df['ALTITUDE'] = 0\n",
    "cities_df['TYPE'] = 'city'"
   ]
  },
  {
   "cell_type": "code",
   "execution_count": 21,
   "metadata": {},
   "outputs": [
    {
     "data": {
      "text/plain": [
       "(5, 5)"
      ]
     },
     "execution_count": 21,
     "metadata": {},
     "output_type": "execute_result"
    }
   ],
   "source": [
    "cities_df.shape"
   ]
  },
  {
   "cell_type": "code",
   "execution_count": 22,
   "metadata": {},
   "outputs": [
    {
     "data": {
      "text/html": [
       "<div>\n",
       "<style scoped>\n",
       "    .dataframe tbody tr th:only-of-type {\n",
       "        vertical-align: middle;\n",
       "    }\n",
       "\n",
       "    .dataframe tbody tr th {\n",
       "        vertical-align: top;\n",
       "    }\n",
       "\n",
       "    .dataframe thead th {\n",
       "        text-align: right;\n",
       "    }\n",
       "</style>\n",
       "<table border=\"1\" class=\"dataframe\">\n",
       "  <thead>\n",
       "    <tr style=\"text-align: right;\">\n",
       "      <th></th>\n",
       "      <th>TEXT</th>\n",
       "      <th>LATITUDE</th>\n",
       "      <th>LONGITUDE</th>\n",
       "      <th>ALTITUDE</th>\n",
       "      <th>TYPE</th>\n",
       "    </tr>\n",
       "  </thead>\n",
       "  <tbody>\n",
       "    <tr>\n",
       "      <th>0</th>\n",
       "      <td>New York City</td>\n",
       "      <td>40.712700</td>\n",
       "      <td>-74.005900</td>\n",
       "      <td>0</td>\n",
       "      <td>city</td>\n",
       "    </tr>\n",
       "    <tr>\n",
       "      <th>1</th>\n",
       "      <td>Mexico City</td>\n",
       "      <td>19.433333</td>\n",
       "      <td>-99.133333</td>\n",
       "      <td>0</td>\n",
       "      <td>city</td>\n",
       "    </tr>\n",
       "    <tr>\n",
       "      <th>2</th>\n",
       "      <td>San Diego</td>\n",
       "      <td>32.715000</td>\n",
       "      <td>-117.162500</td>\n",
       "      <td>0</td>\n",
       "      <td>city</td>\n",
       "    </tr>\n",
       "    <tr>\n",
       "      <th>3</th>\n",
       "      <td>Stockton, CA</td>\n",
       "      <td>37.975556</td>\n",
       "      <td>-121.300833</td>\n",
       "      <td>0</td>\n",
       "      <td>city</td>\n",
       "    </tr>\n",
       "    <tr>\n",
       "      <th>4</th>\n",
       "      <td>San Francisco</td>\n",
       "      <td>37.783333</td>\n",
       "      <td>-122.416667</td>\n",
       "      <td>0</td>\n",
       "      <td>city</td>\n",
       "    </tr>\n",
       "  </tbody>\n",
       "</table>\n",
       "</div>"
      ],
      "text/plain": [
       "            TEXT   LATITUDE   LONGITUDE  ALTITUDE  TYPE\n",
       "0  New York City  40.712700  -74.005900         0  city\n",
       "1    Mexico City  19.433333  -99.133333         0  city\n",
       "2      San Diego  32.715000 -117.162500         0  city\n",
       "3   Stockton, CA  37.975556 -121.300833         0  city\n",
       "4  San Francisco  37.783333 -122.416667         0  city"
      ]
     },
     "execution_count": 22,
     "metadata": {},
     "output_type": "execute_result"
    }
   ],
   "source": [
    "cities_df.head()"
   ]
  },
  {
   "cell_type": "code",
   "execution_count": 23,
   "metadata": {},
   "outputs": [],
   "source": [
    "years_df = pd.DataFrame(columns=['TEXT', 'LATITUDE', 'LONGITUDE', 'ALTITUDE', 'TYPE'])\n",
    "for i, row in aux_df.iterrows():\n",
    "    end_date = aux_df.loc[i, 'END_DATE']\n",
    "    next_year_date = next_year(end_date)\n",
    "#     print(aux_df.loc[i, 'CITY'], end_date)\n",
    "#     print(pd.date_range(first_date, next_year_date, freq='YS'))\n",
    "    for d in pd.date_range(first_date, next_year_date, freq='YS'):\n",
    "        years_df.loc[len(years_df)] = [str(d.year), row['LATITUDE'], row['LONGITUDE'], altitud_year(d), 'year']"
   ]
  },
  {
   "cell_type": "code",
   "execution_count": 24,
   "metadata": {},
   "outputs": [
    {
     "data": {
      "text/plain": [
       "(12, 5)"
      ]
     },
     "execution_count": 24,
     "metadata": {},
     "output_type": "execute_result"
    }
   ],
   "source": [
    "years_df.shape"
   ]
  },
  {
   "cell_type": "code",
   "execution_count": 25,
   "metadata": {},
   "outputs": [
    {
     "data": {
      "text/html": [
       "<div>\n",
       "<style scoped>\n",
       "    .dataframe tbody tr th:only-of-type {\n",
       "        vertical-align: middle;\n",
       "    }\n",
       "\n",
       "    .dataframe tbody tr th {\n",
       "        vertical-align: top;\n",
       "    }\n",
       "\n",
       "    .dataframe thead th {\n",
       "        text-align: right;\n",
       "    }\n",
       "</style>\n",
       "<table border=\"1\" class=\"dataframe\">\n",
       "  <thead>\n",
       "    <tr style=\"text-align: right;\">\n",
       "      <th></th>\n",
       "      <th>TEXT</th>\n",
       "      <th>LATITUDE</th>\n",
       "      <th>LONGITUDE</th>\n",
       "      <th>ALTITUDE</th>\n",
       "      <th>TYPE</th>\n",
       "    </tr>\n",
       "  </thead>\n",
       "  <tbody>\n",
       "    <tr>\n",
       "      <th>0</th>\n",
       "      <td>1947</td>\n",
       "      <td>40.712700</td>\n",
       "      <td>-74.005900</td>\n",
       "      <td>0</td>\n",
       "      <td>year</td>\n",
       "    </tr>\n",
       "    <tr>\n",
       "      <th>1</th>\n",
       "      <td>1948</td>\n",
       "      <td>40.712700</td>\n",
       "      <td>-74.005900</td>\n",
       "      <td>365</td>\n",
       "      <td>year</td>\n",
       "    </tr>\n",
       "    <tr>\n",
       "      <th>2</th>\n",
       "      <td>1947</td>\n",
       "      <td>19.433333</td>\n",
       "      <td>-99.133333</td>\n",
       "      <td>0</td>\n",
       "      <td>year</td>\n",
       "    </tr>\n",
       "    <tr>\n",
       "      <th>3</th>\n",
       "      <td>1948</td>\n",
       "      <td>19.433333</td>\n",
       "      <td>-99.133333</td>\n",
       "      <td>365</td>\n",
       "      <td>year</td>\n",
       "    </tr>\n",
       "    <tr>\n",
       "      <th>4</th>\n",
       "      <td>1947</td>\n",
       "      <td>32.715000</td>\n",
       "      <td>-117.162500</td>\n",
       "      <td>0</td>\n",
       "      <td>year</td>\n",
       "    </tr>\n",
       "    <tr>\n",
       "      <th>5</th>\n",
       "      <td>1948</td>\n",
       "      <td>32.715000</td>\n",
       "      <td>-117.162500</td>\n",
       "      <td>365</td>\n",
       "      <td>year</td>\n",
       "    </tr>\n",
       "    <tr>\n",
       "      <th>6</th>\n",
       "      <td>1947</td>\n",
       "      <td>37.975556</td>\n",
       "      <td>-121.300833</td>\n",
       "      <td>0</td>\n",
       "      <td>year</td>\n",
       "    </tr>\n",
       "    <tr>\n",
       "      <th>7</th>\n",
       "      <td>1948</td>\n",
       "      <td>37.975556</td>\n",
       "      <td>-121.300833</td>\n",
       "      <td>365</td>\n",
       "      <td>year</td>\n",
       "    </tr>\n",
       "    <tr>\n",
       "      <th>8</th>\n",
       "      <td>1949</td>\n",
       "      <td>37.975556</td>\n",
       "      <td>-121.300833</td>\n",
       "      <td>731</td>\n",
       "      <td>year</td>\n",
       "    </tr>\n",
       "    <tr>\n",
       "      <th>9</th>\n",
       "      <td>1947</td>\n",
       "      <td>37.783333</td>\n",
       "      <td>-122.416667</td>\n",
       "      <td>0</td>\n",
       "      <td>year</td>\n",
       "    </tr>\n",
       "  </tbody>\n",
       "</table>\n",
       "</div>"
      ],
      "text/plain": [
       "   TEXT   LATITUDE   LONGITUDE ALTITUDE  TYPE\n",
       "0  1947  40.712700  -74.005900        0  year\n",
       "1  1948  40.712700  -74.005900      365  year\n",
       "2  1947  19.433333  -99.133333        0  year\n",
       "3  1948  19.433333  -99.133333      365  year\n",
       "4  1947  32.715000 -117.162500        0  year\n",
       "5  1948  32.715000 -117.162500      365  year\n",
       "6  1947  37.975556 -121.300833        0  year\n",
       "7  1948  37.975556 -121.300833      365  year\n",
       "8  1949  37.975556 -121.300833      731  year\n",
       "9  1947  37.783333 -122.416667        0  year"
      ]
     },
     "execution_count": 25,
     "metadata": {},
     "output_type": "execute_result"
    }
   ],
   "source": [
    "years_df.head(10)"
   ]
  },
  {
   "cell_type": "code",
   "execution_count": 26,
   "metadata": {},
   "outputs": [],
   "source": [
    "labels_df = pd.concat([cities_df, years_df], ignore_index=True)"
   ]
  },
  {
   "cell_type": "code",
   "execution_count": 27,
   "metadata": {},
   "outputs": [
    {
     "data": {
      "text/plain": [
       "(17, 5)"
      ]
     },
     "execution_count": 27,
     "metadata": {},
     "output_type": "execute_result"
    }
   ],
   "source": [
    "labels_df.shape"
   ]
  },
  {
   "cell_type": "code",
   "execution_count": 28,
   "metadata": {},
   "outputs": [],
   "source": [
    "def format_date(date_str):\n",
    "    return pd.to_datetime(date_str).strftime('%b %d, %Y').replace(' 0', ' ')\n",
    "\n",
    "paths_df = pd.DataFrame(columns=['LATITUDE', 'LONGITUDE', 'ALTITUDE', 'GROUP', 'CITY', 'DATE'])\n",
    "for i, row in itinerary_df.iterrows():\n",
    "    paths_df.loc[i*2, 'LATITUDE'] = row['LATITUDE']\n",
    "    paths_df.loc[i*2, 'LONGITUDE'] = row['LONGITUDE']\n",
    "    paths_df.loc[i*2, 'ALTITUDE'] =  (pd.to_datetime(row['START_DATE']) - first_date).days\n",
    "    paths_df.loc[i*2, 'GROUP'] = row['GROUP']\n",
    "    paths_df.loc[i*2, 'CITY'] = row['CITY']\n",
    "    paths_df.loc[i*2, 'DATE'] = format_date(row['START_DATE'])\n",
    "    paths_df.loc[i*2+1, 'LATITUDE'] = paths_df.loc[i*2, 'LATITUDE']\n",
    "    paths_df.loc[i*2+1, 'LONGITUDE'] = paths_df.loc[i*2, 'LONGITUDE']\n",
    "    paths_df.loc[i*2+1, 'ALTITUDE'] =  (pd.to_datetime(row['END_DATE']) - first_date).days\n",
    "#     paths_df.loc[i*2+1, 'ALTITUDE'] =  paths_df.loc[i*2, 'ALTITUDE'] + row['MAX_NIGHTS']\n",
    "    paths_df.loc[i*2+1, 'GROUP'] = paths_df.loc[i*2, 'GROUP']\n",
    "    paths_df.loc[i*2+1, 'CITY'] = paths_df.loc[i*2, 'CITY']\n",
    "    paths_df.loc[i*2+1, 'DATE'] = format_date(row['END_DATE'])\n",
    "# paths_df['COLOR'] = paths_df['GROUP'].apply(rgb01Hex)"
   ]
  },
  {
   "cell_type": "code",
   "execution_count": 29,
   "metadata": {},
   "outputs": [
    {
     "data": {
      "text/plain": [
       "(10, 6)"
      ]
     },
     "execution_count": 29,
     "metadata": {},
     "output_type": "execute_result"
    }
   ],
   "source": [
    "paths_df.shape"
   ]
  },
  {
   "cell_type": "code",
   "execution_count": 30,
   "metadata": {},
   "outputs": [
    {
     "data": {
      "text/html": [
       "<div>\n",
       "<style scoped>\n",
       "    .dataframe tbody tr th:only-of-type {\n",
       "        vertical-align: middle;\n",
       "    }\n",
       "\n",
       "    .dataframe tbody tr th {\n",
       "        vertical-align: top;\n",
       "    }\n",
       "\n",
       "    .dataframe thead th {\n",
       "        text-align: right;\n",
       "    }\n",
       "</style>\n",
       "<table border=\"1\" class=\"dataframe\">\n",
       "  <thead>\n",
       "    <tr style=\"text-align: right;\">\n",
       "      <th></th>\n",
       "      <th>LATITUDE</th>\n",
       "      <th>LONGITUDE</th>\n",
       "      <th>ALTITUDE</th>\n",
       "      <th>GROUP</th>\n",
       "      <th>CITY</th>\n",
       "      <th>DATE</th>\n",
       "    </tr>\n",
       "  </thead>\n",
       "  <tbody>\n",
       "    <tr>\n",
       "      <th>0</th>\n",
       "      <td>40.7127</td>\n",
       "      <td>-74.0059</td>\n",
       "      <td>72</td>\n",
       "      <td>1</td>\n",
       "      <td>New York City</td>\n",
       "      <td>Mar 14, 1947</td>\n",
       "    </tr>\n",
       "    <tr>\n",
       "      <th>1</th>\n",
       "      <td>40.7127</td>\n",
       "      <td>-74.0059</td>\n",
       "      <td>96</td>\n",
       "      <td>1</td>\n",
       "      <td>New York City</td>\n",
       "      <td>Apr 7, 1947</td>\n",
       "    </tr>\n",
       "    <tr>\n",
       "      <th>2</th>\n",
       "      <td>19.4333</td>\n",
       "      <td>-99.1333</td>\n",
       "      <td>178</td>\n",
       "      <td>2</td>\n",
       "      <td>Mexico City</td>\n",
       "      <td>Jun 28, 1947</td>\n",
       "    </tr>\n",
       "    <tr>\n",
       "      <th>3</th>\n",
       "      <td>19.4333</td>\n",
       "      <td>-99.1333</td>\n",
       "      <td>243</td>\n",
       "      <td>2</td>\n",
       "      <td>Mexico City</td>\n",
       "      <td>Sep 1, 1947</td>\n",
       "    </tr>\n",
       "    <tr>\n",
       "      <th>4</th>\n",
       "      <td>32.715</td>\n",
       "      <td>-117.162</td>\n",
       "      <td>362</td>\n",
       "      <td>3</td>\n",
       "      <td>San Diego</td>\n",
       "      <td>Dec 29, 1947</td>\n",
       "    </tr>\n",
       "  </tbody>\n",
       "</table>\n",
       "</div>"
      ],
      "text/plain": [
       "  LATITUDE LONGITUDE ALTITUDE GROUP           CITY          DATE\n",
       "0  40.7127  -74.0059       72     1  New York City  Mar 14, 1947\n",
       "1  40.7127  -74.0059       96     1  New York City   Apr 7, 1947\n",
       "2  19.4333  -99.1333      178     2    Mexico City  Jun 28, 1947\n",
       "3  19.4333  -99.1333      243     2    Mexico City   Sep 1, 1947\n",
       "4   32.715  -117.162      362     3      San Diego  Dec 29, 1947"
      ]
     },
     "execution_count": 30,
     "metadata": {},
     "output_type": "execute_result"
    }
   ],
   "source": [
    "paths_df.head()"
   ]
  },
  {
   "cell_type": "code",
   "execution_count": 31,
   "metadata": {},
   "outputs": [
    {
     "data": {
      "text/html": [
       "<div>\n",
       "<style scoped>\n",
       "    .dataframe tbody tr th:only-of-type {\n",
       "        vertical-align: middle;\n",
       "    }\n",
       "\n",
       "    .dataframe tbody tr th {\n",
       "        vertical-align: top;\n",
       "    }\n",
       "\n",
       "    .dataframe thead th {\n",
       "        text-align: right;\n",
       "    }\n",
       "</style>\n",
       "<table border=\"1\" class=\"dataframe\">\n",
       "  <thead>\n",
       "    <tr style=\"text-align: right;\">\n",
       "      <th></th>\n",
       "      <th>LATITUDE</th>\n",
       "      <th>LONGITUDE</th>\n",
       "      <th>ALTITUDE</th>\n",
       "      <th>GROUP</th>\n",
       "      <th>CITY</th>\n",
       "      <th>DATE</th>\n",
       "    </tr>\n",
       "  </thead>\n",
       "  <tbody>\n",
       "    <tr>\n",
       "      <th>5</th>\n",
       "      <td>32.715</td>\n",
       "      <td>-117.162</td>\n",
       "      <td>362</td>\n",
       "      <td>3</td>\n",
       "      <td>San Diego</td>\n",
       "      <td>Dec 29, 1947</td>\n",
       "    </tr>\n",
       "    <tr>\n",
       "      <th>6</th>\n",
       "      <td>37.9756</td>\n",
       "      <td>-121.301</td>\n",
       "      <td>366</td>\n",
       "      <td>3</td>\n",
       "      <td>Stockton, CA</td>\n",
       "      <td>Jan 2, 1948</td>\n",
       "    </tr>\n",
       "    <tr>\n",
       "      <th>7</th>\n",
       "      <td>37.9756</td>\n",
       "      <td>-121.301</td>\n",
       "      <td>366</td>\n",
       "      <td>3</td>\n",
       "      <td>Stockton, CA</td>\n",
       "      <td>Jan 2, 1948</td>\n",
       "    </tr>\n",
       "    <tr>\n",
       "      <th>8</th>\n",
       "      <td>37.7833</td>\n",
       "      <td>-122.417</td>\n",
       "      <td>368</td>\n",
       "      <td>3</td>\n",
       "      <td>San Francisco</td>\n",
       "      <td>Jan 4, 1948</td>\n",
       "    </tr>\n",
       "    <tr>\n",
       "      <th>9</th>\n",
       "      <td>37.7833</td>\n",
       "      <td>-122.417</td>\n",
       "      <td>368</td>\n",
       "      <td>3</td>\n",
       "      <td>San Francisco</td>\n",
       "      <td>Jan 4, 1948</td>\n",
       "    </tr>\n",
       "  </tbody>\n",
       "</table>\n",
       "</div>"
      ],
      "text/plain": [
       "  LATITUDE LONGITUDE ALTITUDE GROUP           CITY          DATE\n",
       "5   32.715  -117.162      362     3      San Diego  Dec 29, 1947\n",
       "6  37.9756  -121.301      366     3   Stockton, CA   Jan 2, 1948\n",
       "7  37.9756  -121.301      366     3   Stockton, CA   Jan 2, 1948\n",
       "8  37.7833  -122.417      368     3  San Francisco   Jan 4, 1948\n",
       "9  37.7833  -122.417      368     3  San Francisco   Jan 4, 1948"
      ]
     },
     "execution_count": 31,
     "metadata": {},
     "output_type": "execute_result"
    }
   ],
   "source": [
    "paths_df.tail()"
   ]
  },
  {
   "cell_type": "code",
   "execution_count": 32,
   "metadata": {},
   "outputs": [],
   "source": [
    "total_lines = len(paths_df) - 1"
   ]
  },
  {
   "cell_type": "code",
   "execution_count": 33,
   "metadata": {},
   "outputs": [
    {
     "data": {
      "text/plain": [
       "9"
      ]
     },
     "execution_count": 33,
     "metadata": {},
     "output_type": "execute_result"
    }
   ],
   "source": [
    "total_lines"
   ]
  },
  {
   "cell_type": "code",
   "execution_count": 34,
   "metadata": {},
   "outputs": [],
   "source": [
    "N = 300"
   ]
  },
  {
   "cell_type": "code",
   "execution_count": 35,
   "metadata": {},
   "outputs": [
    {
     "data": {
      "image/png": "[encoded data removed]",
      "text/plain": [
       "<Figure size 216x72 with 1 Axes>"
      ]
     },
     "metadata": {
      "needs_background": "light"
     },
     "output_type": "display_data"
    }
   ],
   "source": [
    "# Color 1\n",
    "palette1 = sns.color_palette('YlOrRd', n_colors=total_lines+N*2)[N:-N]\n",
    "# sns.palplot(palette1)\n",
    "sns.palplot([palette1[0], palette1[len(palette1)//2], palette1[-1]])"
   ]
  },
  {
   "cell_type": "code",
   "execution_count": 36,
   "metadata": {},
   "outputs": [
    {
     "data": {
      "image/png": "[encoded data removed]",
      "text/plain": [
       "<Figure size 216x72 with 1 Axes>"
      ]
     },
     "metadata": {
      "needs_background": "light"
     },
     "output_type": "display_data"
    }
   ],
   "source": [
    "# Color 1R\n",
    "palette1r = sns.color_palette('YlOrRd', n_colors=total_lines+N*2)[-N:N:-1]\n",
    "# sns.palplot(palette1)\n",
    "sns.palplot([palette1[0], palette1[len(palette1)//2], palette1[-1]])"
   ]
  },
  {
   "cell_type": "code",
   "execution_count": 37,
   "metadata": {},
   "outputs": [
    {
     "data": {
      "image/png": "[encoded data removed]",
      "text/plain": [
       "<Figure size 216x72 with 1 Axes>"
      ]
     },
     "metadata": {
      "needs_background": "light"
     },
     "output_type": "display_data"
    }
   ],
   "source": [
    "# Color 2\n",
    "palette2 = sns.color_palette('Blues', n_colors=total_lines+N*2)[N:-N]\n",
    "# sns.palplot(palette2)\n",
    "sns.palplot([palette2[0], palette2[len(palette2)//2], palette2[-1]])"
   ]
  },
  {
   "cell_type": "code",
   "execution_count": 38,
   "metadata": {},
   "outputs": [
    {
     "data": {
      "image/png": "[encoded data removed]",
      "text/plain": [
       "<Figure size 216x72 with 1 Axes>"
      ]
     },
     "metadata": {
      "needs_background": "light"
     },
     "output_type": "display_data"
    }
   ],
   "source": [
    "# Color 3\n",
    "palette3 = sns.color_palette('BuPu', n_colors=total_lines+N*2)[N:-N]\n",
    "# sns.palplot(palette3)\n",
    "sns.palplot([palette3[0], palette3[len(palette3)//2], palette3[-1]])"
   ]
  },
  {
   "cell_type": "code",
   "execution_count": 39,
   "metadata": {},
   "outputs": [
    {
     "data": {
      "image/png": "[encoded data removed]",
      "text/plain": [
       "<Figure size 216x72 with 1 Axes>"
      ]
     },
     "metadata": {
      "needs_background": "light"
     },
     "output_type": "display_data"
    }
   ],
   "source": [
    "# Color 4\n",
    "palette4 = sns.color_palette('GnBu', n_colors=total_lines+N*2)[N:-N]\n",
    "# sns.palplot(palette4)\n",
    "sns.palplot([palette4[0], palette4[len(palette4)//2], palette4[-1]])"
   ]
  },
  {
   "cell_type": "code",
   "execution_count": 40,
   "metadata": {},
   "outputs": [],
   "source": [
    "def rgb01Hex(n, palette):\n",
    "    c = palette[n]\n",
    "    r = int(round(c[0] * 255))\n",
    "    g = int(round(c[1] * 255))\n",
    "    b = int(round(c[2] * 255))\n",
    "    h = '#%02x%02x%02x' % (r, g, b)\n",
    "    return h"
   ]
  },
  {
   "cell_type": "code",
   "execution_count": 41,
   "metadata": {},
   "outputs": [],
   "source": [
    "path_colors_df = pd.DataFrame(columns=[\n",
    "    'CITY1', 'CITY2', 'HEXCODE1', 'HEXCODE1R', 'HEXCODE2', 'HEXCODE3', 'HEXCODE4',\n",
    "])\n",
    "prev_g = paths_df.GROUP[0]\n",
    "for curr_g in paths_df.GROUP[1:]:\n",
    "    i = len(path_colors_df)\n",
    "    if curr_g == prev_g:\n",
    "        path_colors_df.loc[i] = [\n",
    "            paths_df.loc[i, 'CITY'],\n",
    "            paths_df.loc[i+1, 'CITY'],\n",
    "            rgb01Hex(i, palette1),\n",
    "            rgb01Hex(i, palette1r),\n",
    "            rgb01Hex(i, palette2),\n",
    "            rgb01Hex(i, palette3),\n",
    "            rgb01Hex(i, palette4),\n",
    "        ]\n",
    "    else:\n",
    "        path_colors_df.loc[i] = [\n",
    "            paths_df.loc[i, 'CITY'],\n",
    "            paths_df.loc[i+1, 'CITY'],\n",
    "            'grey', 'grey', 'grey', 'grey', 'grey',\n",
    "        ]\n",
    "    prev_g = curr_g"
   ]
  },
  {
   "cell_type": "code",
   "execution_count": 42,
   "metadata": {},
   "outputs": [
    {
     "data": {
      "text/plain": [
       "(9, 7)"
      ]
     },
     "execution_count": 42,
     "metadata": {},
     "output_type": "execute_result"
    }
   ],
   "source": [
    "path_colors_df.shape"
   ]
  },
  {
   "cell_type": "code",
   "execution_count": 43,
   "metadata": {
    "scrolled": false
   },
   "outputs": [
    {
     "data": {
      "text/html": [
       "<div>\n",
       "<style scoped>\n",
       "    .dataframe tbody tr th:only-of-type {\n",
       "        vertical-align: middle;\n",
       "    }\n",
       "\n",
       "    .dataframe tbody tr th {\n",
       "        vertical-align: top;\n",
       "    }\n",
       "\n",
       "    .dataframe thead th {\n",
       "        text-align: right;\n",
       "    }\n",
       "</style>\n",
       "<table border=\"1\" class=\"dataframe\">\n",
       "  <thead>\n",
       "    <tr style=\"text-align: right;\">\n",
       "      <th></th>\n",
       "      <th>CITY1</th>\n",
       "      <th>CITY2</th>\n",
       "      <th>HEXCODE1</th>\n",
       "      <th>HEXCODE1R</th>\n",
       "      <th>HEXCODE2</th>\n",
       "      <th>HEXCODE3</th>\n",
       "      <th>HEXCODE4</th>\n",
       "    </tr>\n",
       "  </thead>\n",
       "  <tbody>\n",
       "    <tr>\n",
       "      <th>0</th>\n",
       "      <td>New York City</td>\n",
       "      <td>New York City</td>\n",
       "      <td>#fd8f3d</td>\n",
       "      <td>#fd883b</td>\n",
       "      <td>#6dafd7</td>\n",
       "      <td>#8d98c7</td>\n",
       "      <td>#7dcdc3</td>\n",
       "    </tr>\n",
       "    <tr>\n",
       "      <th>1</th>\n",
       "      <td>New York City</td>\n",
       "      <td>Mexico City</td>\n",
       "      <td>grey</td>\n",
       "      <td>grey</td>\n",
       "      <td>grey</td>\n",
       "      <td>grey</td>\n",
       "      <td>grey</td>\n",
       "    </tr>\n",
       "    <tr>\n",
       "      <th>2</th>\n",
       "      <td>Mexico City</td>\n",
       "      <td>Mexico City</td>\n",
       "      <td>#fd8e3c</td>\n",
       "      <td>#fd8a3b</td>\n",
       "      <td>#6caed6</td>\n",
       "      <td>#8c97c6</td>\n",
       "      <td>#7cccc4</td>\n",
       "    </tr>\n",
       "    <tr>\n",
       "      <th>3</th>\n",
       "      <td>Mexico City</td>\n",
       "      <td>San Diego</td>\n",
       "      <td>grey</td>\n",
       "      <td>grey</td>\n",
       "      <td>grey</td>\n",
       "      <td>grey</td>\n",
       "      <td>grey</td>\n",
       "    </tr>\n",
       "    <tr>\n",
       "      <th>4</th>\n",
       "      <td>San Diego</td>\n",
       "      <td>San Diego</td>\n",
       "      <td>#fd8c3c</td>\n",
       "      <td>#fd8c3c</td>\n",
       "      <td>#6aaed6</td>\n",
       "      <td>#8c95c6</td>\n",
       "      <td>#7accc4</td>\n",
       "    </tr>\n",
       "  </tbody>\n",
       "</table>\n",
       "</div>"
      ],
      "text/plain": [
       "           CITY1          CITY2 HEXCODE1 HEXCODE1R HEXCODE2 HEXCODE3 HEXCODE4\n",
       "0  New York City  New York City  #fd8f3d   #fd883b  #6dafd7  #8d98c7  #7dcdc3\n",
       "1  New York City    Mexico City     grey      grey     grey     grey     grey\n",
       "2    Mexico City    Mexico City  #fd8e3c   #fd8a3b  #6caed6  #8c97c6  #7cccc4\n",
       "3    Mexico City      San Diego     grey      grey     grey     grey     grey\n",
       "4      San Diego      San Diego  #fd8c3c   #fd8c3c  #6aaed6  #8c95c6  #7accc4"
      ]
     },
     "execution_count": 43,
     "metadata": {},
     "output_type": "execute_result"
    }
   ],
   "source": [
    "path_colors_df.head()"
   ]
  },
  {
   "cell_type": "code",
   "execution_count": 44,
   "metadata": {},
   "outputs": [
    {
     "data": {
      "text/html": [
       "<div>\n",
       "<style scoped>\n",
       "    .dataframe tbody tr th:only-of-type {\n",
       "        vertical-align: middle;\n",
       "    }\n",
       "\n",
       "    .dataframe tbody tr th {\n",
       "        vertical-align: top;\n",
       "    }\n",
       "\n",
       "    .dataframe thead th {\n",
       "        text-align: right;\n",
       "    }\n",
       "</style>\n",
       "<table border=\"1\" class=\"dataframe\">\n",
       "  <thead>\n",
       "    <tr style=\"text-align: right;\">\n",
       "      <th></th>\n",
       "      <th>CITY1</th>\n",
       "      <th>CITY2</th>\n",
       "      <th>HEXCODE1</th>\n",
       "      <th>HEXCODE1R</th>\n",
       "      <th>HEXCODE2</th>\n",
       "      <th>HEXCODE3</th>\n",
       "      <th>HEXCODE4</th>\n",
       "    </tr>\n",
       "  </thead>\n",
       "  <tbody>\n",
       "    <tr>\n",
       "      <th>4</th>\n",
       "      <td>San Diego</td>\n",
       "      <td>San Diego</td>\n",
       "      <td>#fd8c3c</td>\n",
       "      <td>#fd8c3c</td>\n",
       "      <td>#6aaed6</td>\n",
       "      <td>#8c95c6</td>\n",
       "      <td>#7accc4</td>\n",
       "    </tr>\n",
       "    <tr>\n",
       "      <th>5</th>\n",
       "      <td>San Diego</td>\n",
       "      <td>Stockton, CA</td>\n",
       "      <td>#fd8c3c</td>\n",
       "      <td>#fd8c3c</td>\n",
       "      <td>#6aaed6</td>\n",
       "      <td>#8c95c6</td>\n",
       "      <td>#7accc4</td>\n",
       "    </tr>\n",
       "    <tr>\n",
       "      <th>6</th>\n",
       "      <td>Stockton, CA</td>\n",
       "      <td>Stockton, CA</td>\n",
       "      <td>#fd8c3c</td>\n",
       "      <td>#fd8e3c</td>\n",
       "      <td>#6aaed6</td>\n",
       "      <td>#8c95c6</td>\n",
       "      <td>#7accc4</td>\n",
       "    </tr>\n",
       "    <tr>\n",
       "      <th>7</th>\n",
       "      <td>Stockton, CA</td>\n",
       "      <td>San Francisco</td>\n",
       "      <td>#fd8a3b</td>\n",
       "      <td>#fd8e3c</td>\n",
       "      <td>#69add5</td>\n",
       "      <td>#8c94c5</td>\n",
       "      <td>#79cbc5</td>\n",
       "    </tr>\n",
       "    <tr>\n",
       "      <th>8</th>\n",
       "      <td>San Francisco</td>\n",
       "      <td>San Francisco</td>\n",
       "      <td>#fd8a3b</td>\n",
       "      <td>#fd8f3d</td>\n",
       "      <td>#69add5</td>\n",
       "      <td>#8c94c5</td>\n",
       "      <td>#79cbc5</td>\n",
       "    </tr>\n",
       "  </tbody>\n",
       "</table>\n",
       "</div>"
      ],
      "text/plain": [
       "           CITY1          CITY2 HEXCODE1 HEXCODE1R HEXCODE2 HEXCODE3 HEXCODE4\n",
       "4      San Diego      San Diego  #fd8c3c   #fd8c3c  #6aaed6  #8c95c6  #7accc4\n",
       "5      San Diego   Stockton, CA  #fd8c3c   #fd8c3c  #6aaed6  #8c95c6  #7accc4\n",
       "6   Stockton, CA   Stockton, CA  #fd8c3c   #fd8e3c  #6aaed6  #8c95c6  #7accc4\n",
       "7   Stockton, CA  San Francisco  #fd8a3b   #fd8e3c  #69add5  #8c94c5  #79cbc5\n",
       "8  San Francisco  San Francisco  #fd8a3b   #fd8f3d  #69add5  #8c94c5  #79cbc5"
      ]
     },
     "execution_count": 44,
     "metadata": {},
     "output_type": "execute_result"
    }
   ],
   "source": [
    "path_colors_df.tail()"
   ]
  },
  {
   "cell_type": "code",
   "execution_count": 45,
   "metadata": {},
   "outputs": [],
   "source": [
    "# sns.palplot(path_colors_df.HEXCODE1)"
   ]
  },
  {
   "cell_type": "code",
   "execution_count": 46,
   "metadata": {},
   "outputs": [],
   "source": [
    "# sns.palplot(path_colors_df.HEXCODE1R)"
   ]
  },
  {
   "cell_type": "code",
   "execution_count": 47,
   "metadata": {},
   "outputs": [],
   "source": [
    "# sns.palplot(path_colors_df.HEXCODE2)"
   ]
  },
  {
   "cell_type": "code",
   "execution_count": 48,
   "metadata": {},
   "outputs": [],
   "source": [
    "# sns.palplot(path_colors_df.HEXCODE3)"
   ]
  },
  {
   "cell_type": "code",
   "execution_count": 49,
   "metadata": {},
   "outputs": [],
   "source": [
    "# sns.palplot(path_colors_df.HEXCODE4)"
   ]
  },
  {
   "cell_type": "markdown",
   "metadata": {},
   "source": [
    "## Saving data"
   ]
  },
  {
   "cell_type": "code",
   "execution_count": 50,
   "metadata": {},
   "outputs": [],
   "source": [
    "points_df.to_csv('web/data/points4760.csv', index=False)\n",
    "labels_df.to_csv('web/data/labels4760.csv', index=False)\n",
    "paths_df.to_csv('web/data/paths4760.csv', index=False)\n",
    "path_colors_df.to_csv('web/data/path_colors4760.csv', index=False)"
   ]
  }
 ],
 "metadata": {
  "kernelspec": {
   "display_name": "Python 3",
   "language": "python",
   "name": "python3"
  },
  "language_info": {
   "codemirror_mode": {
    "name": "ipython",
    "version": 3
   },
   "file_extension": ".py",
   "mimetype": "text/x-python",
   "name": "python",
   "nbconvert_exporter": "python",
   "pygments_lexer": "ipython3",
   "version": "3.8.10"
  }
 },
 "nbformat": 4,
 "nbformat_minor": 2
}
